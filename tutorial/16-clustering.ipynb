{
 "metadata": {
  "language_info": {
   "codemirror_mode": {
    "name": "ipython",
    "version": 3
   },
   "file_extension": ".py",
   "mimetype": "text/x-python",
   "name": "python",
   "nbconvert_exporter": "python",
   "pygments_lexer": "ipython3",
   "version": "3.9.2"
  },
  "orig_nbformat": 2,
  "kernelspec": {
   "name": "pythonjvsc74a57bd0fe302a915fa1dea07d07bac7a5920100efea527ad853d502f298bafa7f5d95ea",
   "display_name": "Python 3.9.2 64-bit ('.venv': venv)"
  },
  "metadata": {
   "interpreter": {
    "hash": "fe302a915fa1dea07d07bac7a5920100efea527ad853d502f298bafa7f5d95ea"
   }
  }
 },
 "nbformat": 4,
 "nbformat_minor": 2,
 "cells": [
  {
   "cell_type": "code",
   "execution_count": null,
   "metadata": {},
   "outputs": [],
   "source": [
    "%matplotlib inline\n",
    "\n",
    "import matplotlib.pyplot as plt\n",
    "import pandas as pd\n",
    "import seaborn as sns\n",
    "from sklearn.cluster import KMeans"
   ]
  },
  {
   "cell_type": "code",
   "execution_count": null,
   "metadata": {},
   "outputs": [],
   "source": [
    "df = pd.read_csv(\"../datasets/while-partnered.csv\", index_col=0)\n",
    "df[\"day\"] = pd.to_datetime(df[\"day\"], format=\"%Y-%m-%d\")\n",
    "df.head()"
   ]
  },
  {
   "cell_type": "code",
   "execution_count": null,
   "metadata": {},
   "outputs": [],
   "source": [
    "def kmeans_clustering(data, n_clusters):\n",
    "    kmeans = KMeans(n_clusters)\n",
    "    kmeans.fit(data)\n",
    "    return kmeans.predict(data), kmeans.cluster_centers_"
   ]
  },
  {
   "cell_type": "code",
   "execution_count": null,
   "metadata": {},
   "outputs": [],
   "source": [
    "data = df[[\"views\", \"estimatedAdRevenue\"]]\n",
    "pred, centroids = kmeans_clustering(data, 3)\n",
    "\n",
    "fig = plt.figure()\n",
    "sns.scatterplot(data=df, x=\"views\", y=\"estimatedAdRevenue\", c=pred)\n",
    "sns.scatterplot(x=centroids[:, 0], y=centroids[:, 1], s=100, c=[\"#0C0C0C\"])\n",
    "fig.show()"
   ]
  }
 ]
}