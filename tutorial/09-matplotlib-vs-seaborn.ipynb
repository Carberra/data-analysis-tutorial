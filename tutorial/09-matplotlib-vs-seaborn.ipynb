{
 "metadata": {
  "language_info": {
   "codemirror_mode": {
    "name": "ipython",
    "version": 3
   },
   "file_extension": ".py",
   "mimetype": "text/x-python",
   "name": "python",
   "nbconvert_exporter": "python",
   "pygments_lexer": "ipython3",
   "version": "3.9.2"
  },
  "orig_nbformat": 2,
  "kernelspec": {
   "name": "python392jvsc74a57bd0fe302a915fa1dea07d07bac7a5920100efea527ad853d502f298bafa7f5d95ea",
   "display_name": "Python 3.9.2 64-bit ('.venv')"
  }
 },
 "nbformat": 4,
 "nbformat_minor": 2,
 "cells": [
  {
   "cell_type": "code",
   "execution_count": null,
   "metadata": {},
   "outputs": [],
   "source": [
    "%matplotlib inline\n",
    "\n",
    "import matplotlib.pyplot as plt\n",
    "import pandas as pd\n",
    "import seaborn as sns"
   ]
  },
  {
   "cell_type": "code",
   "execution_count": null,
   "metadata": {},
   "outputs": [],
   "source": [
    "df = pd.read_csv(\"../datasets/live-by-subscribed-2021.csv\", index_col=0)\n",
    "df[\"day\"] = pd.to_datetime(df[\"day\"], format=\"%Y-%m-%d\")\n",
    "df.head()"
   ]
  },
  {
   "cell_type": "code",
   "execution_count": null,
   "metadata": {},
   "outputs": [],
   "source": [
    "fig = plt.figure()\n",
    "\n",
    "plt.boxplot(\n",
    "    [\n",
    "        (df[\"views\"])[df[\"subscribedStatus\"] == \"SUBSCRIBED\"],\n",
    "        (df[\"views\"])[df[\"subscribedStatus\"] == \"UNSUBSCRIBED\"],\n",
    "    ]\n",
    ")\n",
    "plt.xlabel(\"subscribedStatus\")\n",
    "plt.ylabel(\"views\")\n",
    "tick_labels = (\"SUBSCRIBED\", \"UNSUBSCRIBED\")\n",
    "plt.xticks(ticks=range(1, len(ticks) + 1), labels=tick_labels)\n",
    "\n",
    "fig.show()"
   ]
  },
  {
   "cell_type": "code",
   "execution_count": null,
   "metadata": {},
   "outputs": [],
   "source": [
    "fig = plt.figure()\n",
    "sns.boxplot(data=df, x=\"subscribedStatus\", y=\"views\")\n",
    "fig.show()"
   ]
  }
 ]
}