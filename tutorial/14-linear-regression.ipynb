{
 "metadata": {
  "language_info": {
   "codemirror_mode": {
    "name": "ipython",
    "version": 3
   },
   "file_extension": ".py",
   "mimetype": "text/x-python",
   "name": "python",
   "nbconvert_exporter": "python",
   "pygments_lexer": "ipython3",
   "version": "3.9.2"
  },
  "orig_nbformat": 2,
  "kernelspec": {
   "name": "pythonjvsc74a57bd0fe302a915fa1dea07d07bac7a5920100efea527ad853d502f298bafa7f5d95ea",
   "display_name": "Python 3.9.2 64-bit ('.venv': venv)"
  },
  "metadata": {
   "interpreter": {
    "hash": "fe302a915fa1dea07d07bac7a5920100efea527ad853d502f298bafa7f5d95ea"
   }
  }
 },
 "nbformat": 4,
 "nbformat_minor": 2,
 "cells": [
  {
   "cell_type": "code",
   "execution_count": null,
   "metadata": {},
   "outputs": [],
   "source": [
    "%matplotlib inline\n",
    "\n",
    "import matplotlib.pyplot as plt\n",
    "import pandas as pd\n",
    "import seaborn as sns\n",
    "from sklearn.linear_model import LinearRegression"
   ]
  },
  {
   "cell_type": "code",
   "execution_count": null,
   "metadata": {},
   "outputs": [],
   "source": [
    "df = pd.read_csv(\"../datasets/second-half-2020.csv\", index_col=0)\n",
    "df[\"day\"] = pd.to_datetime(df[\"day\"], format=\"%Y-%m-%d\")\n",
    "df.head()"
   ]
  },
  {
   "cell_type": "code",
   "execution_count": null,
   "metadata": {},
   "outputs": [],
   "source": [
    "def linear_regression(data):\n",
    "    x = data[:, 0].reshape((-1, 1))\n",
    "    y = data[:, 1]\n",
    "\n",
    "    regr = LinearRegression()\n",
    "    regr.fit(x, y)\n",
    "    return regr.predict(x)"
   ]
  },
  {
   "cell_type": "code",
   "execution_count": null,
   "metadata": {},
   "outputs": [],
   "source": [
    "data = df[[\"views\", \"redViews\"]].values\n",
    "pred = linear_regression(data)\n",
    "\n",
    "fig = plt.figure()\n",
    "sns.scatterplot(data=df, x=\"views\", y=\"redViews\")\n",
    "sns.lineplot(x=df[\"views\"], y=pred, lw=3)\n",
    "fig.show()"
   ]
  }
 ]
}