{
 "metadata": {
  "language_info": {
   "codemirror_mode": {
    "name": "ipython",
    "version": 3
   },
   "file_extension": ".py",
   "mimetype": "text/x-python",
   "name": "python",
   "nbconvert_exporter": "python",
   "pygments_lexer": "ipython3",
   "version": "3.9.2"
  },
  "orig_nbformat": 2,
  "kernelspec": {
   "name": "pythonjvsc74a57bd0fe302a915fa1dea07d07bac7a5920100efea527ad853d502f298bafa7f5d95ea",
   "display_name": "Python 3.9.2 64-bit ('.venv': venv)"
  },
  "metadata": {
   "interpreter": {
    "hash": "fe302a915fa1dea07d07bac7a5920100efea527ad853d502f298bafa7f5d95ea"
   }
  }
 },
 "nbformat": 4,
 "nbformat_minor": 2,
 "cells": [
  {
   "cell_type": "code",
   "execution_count": null,
   "metadata": {},
   "outputs": [],
   "source": [
    "%matplotlib inline\n",
    "\n",
    "import matplotlib.pyplot as plt\n",
    "import pandas as pd\n",
    "import seaborn as sns\n",
    "from sklearn.linear_model import LinearRegression\n",
    "from sklearn.preprocessing import PolynomialFeatures"
   ]
  },
  {
   "cell_type": "code",
   "execution_count": null,
   "metadata": {},
   "outputs": [],
   "source": [
    "df = pd.read_csv(\"../datasets/while-partnered.csv\", index_col=0)\n",
    "df[\"day\"] = pd.to_datetime(df[\"day\"], format=\"%Y-%m-%d\")\n",
    "df.head()"
   ]
  },
  {
   "cell_type": "code",
   "execution_count": null,
   "metadata": {},
   "outputs": [],
   "source": [
    "def polynomial_regression(data, degree):\n",
    "    x = data[:, 0].reshape((-1, 1))\n",
    "    y = data[:, 1]\n",
    "\n",
    "    features = PolynomialFeatures(degree=degree)\n",
    "    x_poly = features.fit_transform(x)\n",
    "    regr = LinearRegression()\n",
    "    regr.fit(x_poly, y)\n",
    "    return regr.predict(x_poly)"
   ]
  },
  {
   "cell_type": "code",
   "execution_count": null,
   "metadata": {},
   "outputs": [],
   "source": [
    "data = df[[\"views\", \"cpm\"]].values\n",
    "pred = polynomial_regression(data, 3)\n",
    "\n",
    "fig = plt.figure()\n",
    "sns.scatterplot(data=df, x=\"views\", y=\"cpm\")\n",
    "sns.lineplot(x=df[\"views\"], y=pred, lw=3)\n",
    "fig.show()"
   ]
  },
  {
   "cell_type": "code",
   "execution_count": null,
   "metadata": {},
   "outputs": [],
   "source": [
    "import numpy as np"
   ]
  },
  {
   "cell_type": "code",
   "execution_count": null,
   "metadata": {},
   "outputs": [],
   "source": [
    "def polynomial_regression2(x, y, degree):\n",
    "    \"\"\"Calculate the polynomial regression of degree degrees between x and y.\"\"\"\n",
    "    X = np.ones(x.shape)\n",
    "    X = np.column_stack((X, *(x ** (i + 1) for i in range(degree))))\n",
    "    return X.dot(np.linalg.solve((XX := X.transpose()).dot(X), XX.dot(y)))"
   ]
  },
  {
   "cell_type": "code",
   "execution_count": null,
   "metadata": {},
   "outputs": [],
   "source": [
    "x = data[:, 0]\n",
    "y = data[:, 1]\n",
    "pred = polynomial_regression2(x, y, 3)\n",
    "\n",
    "fig = plt.figure()\n",
    "sns.scatterplot(data=df, x=\"views\", y=\"cpm\")\n",
    "sns.scatterplot(x=df[\"views\"], y=pred, lw=3)\n",
    "fig.show()"
   ]
  }
 ]
}